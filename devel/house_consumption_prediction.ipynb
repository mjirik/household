{
 "cells": [
  {
   "cell_type": "code",
   "execution_count": 1,
   "id": "9e0dcbae64769ff7",
   "metadata": {},
   "outputs": [
    {
     "name": "stdout",
     "output_type": "stream",
     "text": [
      "Looking in indexes: https://pypi.org/simple, https://www.piwheels.org/simple\n",
      "Collecting scikit-learn==1.3.*\n",
      "  Downloading scikit_learn-1.3.2-cp311-cp311-manylinux_2_17_aarch64.manylinux2014_aarch64.whl.metadata (11 kB)\n",
      "Requirement already satisfied: numpy==1.* in /usr/local/lib/python3.11/dist-packages (1.26.4)\n",
      "Requirement already satisfied: scipy>=1.5.0 in /usr/local/lib/python3.11/dist-packages (from scikit-learn==1.3.*) (1.14.1)\n",
      "Requirement already satisfied: joblib>=1.1.1 in /usr/local/lib/python3.11/dist-packages (from scikit-learn==1.3.*) (1.4.2)\n",
      "Requirement already satisfied: threadpoolctl>=2.0.0 in /usr/local/lib/python3.11/dist-packages (from scikit-learn==1.3.*) (3.5.0)\n",
      "Downloading scikit_learn-1.3.2-cp311-cp311-manylinux_2_17_aarch64.manylinux2014_aarch64.whl (10.3 MB)\n",
      "\u001b[2K   \u001b[90m━━━━━━━━━━━━━━━━━━━━━━━━━━━━━━━━━━━━━━━━\u001b[0m \u001b[32m10.3/10.3 MB\u001b[0m \u001b[31m3.7 MB/s\u001b[0m eta \u001b[36m0:00:00\u001b[0m \u001b[36m0:00:01\u001b[0m\n",
      "\u001b[?25hInstalling collected packages: scikit-learn\n",
      "  Attempting uninstall: scikit-learn\n",
      "    Found existing installation: scikit-learn 1.5.2\n",
      "    Uninstalling scikit-learn-1.5.2:\n",
      "      Successfully uninstalled scikit-learn-1.5.2\n",
      "Successfully installed scikit-learn-1.3.2\n",
      "\u001b[33mWARNING: Running pip as the 'root' user can result in broken permissions and conflicting behaviour with the system package manager, possibly rendering your system unusable.It is recommended to use a virtual environment instead: https://pip.pypa.io/warnings/venv. Use the --root-user-action option if you know what you are doing and want to suppress this warning.\u001b[0m\u001b[33m\n",
      "\u001b[0m"
     ]
    }
   ],
   "source": [
    "!pip install scikit-learn==1.3.* numpy==1.25.*"
   ]
  },
  {
   "cell_type": "code",
   "execution_count": 2,
   "id": "initial_id",
   "metadata": {
    "ExecuteTime": {
     "end_time": "2024-11-24T20:21:59.718968Z",
     "start_time": "2024-11-24T20:21:59.300286Z"
    }
   },
   "outputs": [],
   "source": [
    "import pandas as pd\n",
    "from pathlib import Path"
   ]
  },
  {
   "cell_type": "code",
   "execution_count": 3,
   "id": "fe959307f44bb074",
   "metadata": {
    "ExecuteTime": {
     "end_time": "2024-11-24T20:23:37.403372Z",
     "start_time": "2024-11-24T20:23:37.381938Z"
    }
   },
   "outputs": [
    {
     "data": {
      "text/html": [
       "<div>\n",
       "<style scoped>\n",
       "    .dataframe tbody tr th:only-of-type {\n",
       "        vertical-align: middle;\n",
       "    }\n",
       "\n",
       "    .dataframe tbody tr th {\n",
       "        vertical-align: top;\n",
       "    }\n",
       "\n",
       "    .dataframe thead th {\n",
       "        text-align: right;\n",
       "    }\n",
       "</style>\n",
       "<table border=\"1\" class=\"dataframe\">\n",
       "  <thead>\n",
       "    <tr style=\"text-align: right;\">\n",
       "      <th></th>\n",
       "      <th>last_updated_datetime</th>\n",
       "      <th>sensor.forecast_temperature</th>\n",
       "      <th>sensor.house_consumption_daily</th>\n",
       "      <th>sensor.teplomer_venku_temperature</th>\n",
       "    </tr>\n",
       "  </thead>\n",
       "  <tbody>\n",
       "    <tr>\n",
       "      <th>0</th>\n",
       "      <td>2024-10-20 12:00:00</td>\n",
       "      <td>15.300000</td>\n",
       "      <td>30.1</td>\n",
       "      <td>24.631915</td>\n",
       "    </tr>\n",
       "    <tr>\n",
       "      <th>1</th>\n",
       "      <td>2024-10-20 13:00:00</td>\n",
       "      <td>15.960673</td>\n",
       "      <td>33.0</td>\n",
       "      <td>24.655556</td>\n",
       "    </tr>\n",
       "    <tr>\n",
       "      <th>2</th>\n",
       "      <td>2024-10-20 14:00:00</td>\n",
       "      <td>16.107738</td>\n",
       "      <td>34.6</td>\n",
       "      <td>24.517610</td>\n",
       "    </tr>\n",
       "    <tr>\n",
       "      <th>3</th>\n",
       "      <td>2024-10-20 15:00:00</td>\n",
       "      <td>15.755480</td>\n",
       "      <td>36.9</td>\n",
       "      <td>24.447572</td>\n",
       "    </tr>\n",
       "    <tr>\n",
       "      <th>4</th>\n",
       "      <td>2024-10-20 16:00:00</td>\n",
       "      <td>14.687518</td>\n",
       "      <td>39.0</td>\n",
       "      <td>24.607072</td>\n",
       "    </tr>\n",
       "    <tr>\n",
       "      <th>...</th>\n",
       "      <td>...</td>\n",
       "      <td>...</td>\n",
       "      <td>...</td>\n",
       "      <td>...</td>\n",
       "    </tr>\n",
       "    <tr>\n",
       "      <th>831</th>\n",
       "      <td>2024-11-24 15:00:00</td>\n",
       "      <td>11.053594</td>\n",
       "      <td>42.3</td>\n",
       "      <td>12.399501</td>\n",
       "    </tr>\n",
       "    <tr>\n",
       "      <th>832</th>\n",
       "      <td>2024-11-24 16:00:00</td>\n",
       "      <td>10.818492</td>\n",
       "      <td>45.6</td>\n",
       "      <td>11.376284</td>\n",
       "    </tr>\n",
       "    <tr>\n",
       "      <th>833</th>\n",
       "      <td>2024-11-24 17:00:00</td>\n",
       "      <td>10.984840</td>\n",
       "      <td>49.8</td>\n",
       "      <td>10.887013</td>\n",
       "    </tr>\n",
       "    <tr>\n",
       "      <th>834</th>\n",
       "      <td>2024-11-24 18:00:00</td>\n",
       "      <td>10.905913</td>\n",
       "      <td>53.1</td>\n",
       "      <td>10.264910</td>\n",
       "    </tr>\n",
       "    <tr>\n",
       "      <th>835</th>\n",
       "      <td>2024-11-24 19:00:00</td>\n",
       "      <td>10.516988</td>\n",
       "      <td>55.3</td>\n",
       "      <td>9.248647</td>\n",
       "    </tr>\n",
       "  </tbody>\n",
       "</table>\n",
       "<p>836 rows × 4 columns</p>\n",
       "</div>"
      ],
      "text/plain": [
       "    last_updated_datetime  sensor.forecast_temperature  \\\n",
       "0     2024-10-20 12:00:00                    15.300000   \n",
       "1     2024-10-20 13:00:00                    15.960673   \n",
       "2     2024-10-20 14:00:00                    16.107738   \n",
       "3     2024-10-20 15:00:00                    15.755480   \n",
       "4     2024-10-20 16:00:00                    14.687518   \n",
       "..                    ...                          ...   \n",
       "831   2024-11-24 15:00:00                    11.053594   \n",
       "832   2024-11-24 16:00:00                    10.818492   \n",
       "833   2024-11-24 17:00:00                    10.984840   \n",
       "834   2024-11-24 18:00:00                    10.905913   \n",
       "835   2024-11-24 19:00:00                    10.516988   \n",
       "\n",
       "     sensor.house_consumption_daily  sensor.teplomer_venku_temperature  \n",
       "0                              30.1                          24.631915  \n",
       "1                              33.0                          24.655556  \n",
       "2                              34.6                          24.517610  \n",
       "3                              36.9                          24.447572  \n",
       "4                              39.0                          24.607072  \n",
       "..                              ...                                ...  \n",
       "831                            42.3                          12.399501  \n",
       "832                            45.6                          11.376284  \n",
       "833                            49.8                          10.887013  \n",
       "834                            53.1                          10.264910  \n",
       "835                            55.3                           9.248647  \n",
       "\n",
       "[836 rows x 4 columns]"
      ]
     },
     "execution_count": 3,
     "metadata": {},
     "output_type": "execute_result"
    }
   ],
   "source": [
    "fn = list(sorted(Path(\".\").glob(\"**/homeassistant_export.*\")))[-1]\n",
    "df = pd.read_csv(fn, index_col=0)\n",
    "df"
   ]
  },
  {
   "cell_type": "code",
   "execution_count": 4,
   "id": "29512cd09bdb1a60",
   "metadata": {
    "ExecuteTime": {
     "end_time": "2024-11-24T20:32:43.746367Z",
     "start_time": "2024-11-24T20:32:43.737354Z"
    }
   },
   "outputs": [],
   "source": [
    "# the largest value in column \"sensor.house_consumption_daily\" in each day is the total consumption of the house.\n",
    "# I want to create the column with remaining consumption of the house for each day.\n",
    "\n",
    "# Ensure the 'timestamp' column is of datetime type\n",
    "df['last_updated_datetime'] = pd.to_datetime(df['last_updated_datetime'])\n",
    "\n",
    "# Extract the date from the timestamp\n",
    "df['date'] = df['last_updated_datetime'].dt.date\n",
    "\n",
    "# Calculate the daily maximum consumption\n",
    "df['daily_max_consumption'] = df.groupby('date')['sensor.house_consumption_daily'].transform('max')\n",
    "\n",
    "# Calculate the remaining consumption\n",
    "df['remaining_house_consumption'] = df['daily_max_consumption'] - df['sensor.house_consumption_daily']\n",
    "\n",
    "# Drop the intermediate 'daily_max_consumption' column if not needed\n",
    "df.drop(columns=['daily_max_consumption'], inplace=True)\n",
    "\n",
    "\n"
   ]
  },
  {
   "cell_type": "code",
   "execution_count": 5,
   "id": "b930f7b2763ed827",
   "metadata": {
    "ExecuteTime": {
     "end_time": "2024-11-24T20:32:45.701289Z",
     "start_time": "2024-11-24T20:32:45.688966Z"
    }
   },
   "outputs": [
    {
     "data": {
      "text/html": [
       "<div>\n",
       "<style scoped>\n",
       "    .dataframe tbody tr th:only-of-type {\n",
       "        vertical-align: middle;\n",
       "    }\n",
       "\n",
       "    .dataframe tbody tr th {\n",
       "        vertical-align: top;\n",
       "    }\n",
       "\n",
       "    .dataframe thead th {\n",
       "        text-align: right;\n",
       "    }\n",
       "</style>\n",
       "<table border=\"1\" class=\"dataframe\">\n",
       "  <thead>\n",
       "    <tr style=\"text-align: right;\">\n",
       "      <th></th>\n",
       "      <th>last_updated_datetime</th>\n",
       "      <th>sensor.forecast_temperature</th>\n",
       "      <th>sensor.house_consumption_daily</th>\n",
       "      <th>sensor.teplomer_venku_temperature</th>\n",
       "      <th>date</th>\n",
       "      <th>remaining_house_consumption</th>\n",
       "    </tr>\n",
       "  </thead>\n",
       "  <tbody>\n",
       "    <tr>\n",
       "      <th>0</th>\n",
       "      <td>2024-10-20 12:00:00</td>\n",
       "      <td>15.300000</td>\n",
       "      <td>30.1</td>\n",
       "      <td>24.631915</td>\n",
       "      <td>2024-10-20</td>\n",
       "      <td>18.2</td>\n",
       "    </tr>\n",
       "    <tr>\n",
       "      <th>1</th>\n",
       "      <td>2024-10-20 13:00:00</td>\n",
       "      <td>15.960673</td>\n",
       "      <td>33.0</td>\n",
       "      <td>24.655556</td>\n",
       "      <td>2024-10-20</td>\n",
       "      <td>15.3</td>\n",
       "    </tr>\n",
       "    <tr>\n",
       "      <th>2</th>\n",
       "      <td>2024-10-20 14:00:00</td>\n",
       "      <td>16.107738</td>\n",
       "      <td>34.6</td>\n",
       "      <td>24.517610</td>\n",
       "      <td>2024-10-20</td>\n",
       "      <td>13.7</td>\n",
       "    </tr>\n",
       "    <tr>\n",
       "      <th>3</th>\n",
       "      <td>2024-10-20 15:00:00</td>\n",
       "      <td>15.755480</td>\n",
       "      <td>36.9</td>\n",
       "      <td>24.447572</td>\n",
       "      <td>2024-10-20</td>\n",
       "      <td>11.4</td>\n",
       "    </tr>\n",
       "    <tr>\n",
       "      <th>4</th>\n",
       "      <td>2024-10-20 16:00:00</td>\n",
       "      <td>14.687518</td>\n",
       "      <td>39.0</td>\n",
       "      <td>24.607072</td>\n",
       "      <td>2024-10-20</td>\n",
       "      <td>9.3</td>\n",
       "    </tr>\n",
       "    <tr>\n",
       "      <th>...</th>\n",
       "      <td>...</td>\n",
       "      <td>...</td>\n",
       "      <td>...</td>\n",
       "      <td>...</td>\n",
       "      <td>...</td>\n",
       "      <td>...</td>\n",
       "    </tr>\n",
       "    <tr>\n",
       "      <th>831</th>\n",
       "      <td>2024-11-24 15:00:00</td>\n",
       "      <td>11.053594</td>\n",
       "      <td>42.3</td>\n",
       "      <td>12.399501</td>\n",
       "      <td>2024-11-24</td>\n",
       "      <td>13.0</td>\n",
       "    </tr>\n",
       "    <tr>\n",
       "      <th>832</th>\n",
       "      <td>2024-11-24 16:00:00</td>\n",
       "      <td>10.818492</td>\n",
       "      <td>45.6</td>\n",
       "      <td>11.376284</td>\n",
       "      <td>2024-11-24</td>\n",
       "      <td>9.7</td>\n",
       "    </tr>\n",
       "    <tr>\n",
       "      <th>833</th>\n",
       "      <td>2024-11-24 17:00:00</td>\n",
       "      <td>10.984840</td>\n",
       "      <td>49.8</td>\n",
       "      <td>10.887013</td>\n",
       "      <td>2024-11-24</td>\n",
       "      <td>5.5</td>\n",
       "    </tr>\n",
       "    <tr>\n",
       "      <th>834</th>\n",
       "      <td>2024-11-24 18:00:00</td>\n",
       "      <td>10.905913</td>\n",
       "      <td>53.1</td>\n",
       "      <td>10.264910</td>\n",
       "      <td>2024-11-24</td>\n",
       "      <td>2.2</td>\n",
       "    </tr>\n",
       "    <tr>\n",
       "      <th>835</th>\n",
       "      <td>2024-11-24 19:00:00</td>\n",
       "      <td>10.516988</td>\n",
       "      <td>55.3</td>\n",
       "      <td>9.248647</td>\n",
       "      <td>2024-11-24</td>\n",
       "      <td>0.0</td>\n",
       "    </tr>\n",
       "  </tbody>\n",
       "</table>\n",
       "<p>836 rows × 6 columns</p>\n",
       "</div>"
      ],
      "text/plain": [
       "    last_updated_datetime  sensor.forecast_temperature  \\\n",
       "0     2024-10-20 12:00:00                    15.300000   \n",
       "1     2024-10-20 13:00:00                    15.960673   \n",
       "2     2024-10-20 14:00:00                    16.107738   \n",
       "3     2024-10-20 15:00:00                    15.755480   \n",
       "4     2024-10-20 16:00:00                    14.687518   \n",
       "..                    ...                          ...   \n",
       "831   2024-11-24 15:00:00                    11.053594   \n",
       "832   2024-11-24 16:00:00                    10.818492   \n",
       "833   2024-11-24 17:00:00                    10.984840   \n",
       "834   2024-11-24 18:00:00                    10.905913   \n",
       "835   2024-11-24 19:00:00                    10.516988   \n",
       "\n",
       "     sensor.house_consumption_daily  sensor.teplomer_venku_temperature  \\\n",
       "0                              30.1                          24.631915   \n",
       "1                              33.0                          24.655556   \n",
       "2                              34.6                          24.517610   \n",
       "3                              36.9                          24.447572   \n",
       "4                              39.0                          24.607072   \n",
       "..                              ...                                ...   \n",
       "831                            42.3                          12.399501   \n",
       "832                            45.6                          11.376284   \n",
       "833                            49.8                          10.887013   \n",
       "834                            53.1                          10.264910   \n",
       "835                            55.3                           9.248647   \n",
       "\n",
       "           date  remaining_house_consumption  \n",
       "0    2024-10-20                         18.2  \n",
       "1    2024-10-20                         15.3  \n",
       "2    2024-10-20                         13.7  \n",
       "3    2024-10-20                         11.4  \n",
       "4    2024-10-20                          9.3  \n",
       "..          ...                          ...  \n",
       "831  2024-11-24                         13.0  \n",
       "832  2024-11-24                          9.7  \n",
       "833  2024-11-24                          5.5  \n",
       "834  2024-11-24                          2.2  \n",
       "835  2024-11-24                          0.0  \n",
       "\n",
       "[836 rows x 6 columns]"
      ]
     },
     "execution_count": 5,
     "metadata": {},
     "output_type": "execute_result"
    }
   ],
   "source": [
    "df"
   ]
  },
  {
   "cell_type": "code",
   "execution_count": 6,
   "id": "1339dd047582633e",
   "metadata": {
    "ExecuteTime": {
     "end_time": "2024-11-24T20:33:44.265415Z",
     "start_time": "2024-11-24T20:33:44.252883Z"
    }
   },
   "outputs": [],
   "source": [
    "# want to add column with the number of day in year\n",
    "df['day_of_year'] = df['last_updated_datetime'].dt.dayofyear\n",
    "df['hour'] = df['last_updated_datetime'].dt.hour"
   ]
  },
  {
   "cell_type": "code",
   "execution_count": 7,
   "id": "4fa10175db767d59",
   "metadata": {
    "ExecuteTime": {
     "end_time": "2024-11-24T20:37:53.069404Z",
     "start_time": "2024-11-24T20:37:52.547587Z"
    }
   },
   "outputs": [],
   "source": [
    "# now i want to train regression model to predict the remaining consumption of the house for today\n",
    "if \"sensor.house_consumption_daily\" in df.columns:\n",
    "    df.drop(columns=[\"sensor.house_consumption_daily\"], inplace=True)\n",
    "\n",
    "from sklearn.model_selection import train_test_split\n",
    "\n",
    "# Define the features and target variable\n",
    "X = df[['day_of_year', 'hour', \"sensor.forecast_temperature\"]]\n",
    "y = df['remaining_house_consumption']\n",
    "\n",
    "# Split the data into training and testing sets\n",
    "X_train, X_test, y_train, y_test = train_test_split(X, y, test_size=0.2, random_state=42)\n",
    "\n",
    "\n",
    "\n"
   ]
  },
  {
   "cell_type": "code",
   "execution_count": 8,
   "id": "5a601326c653f87c",
   "metadata": {
    "ExecuteTime": {
     "end_time": "2024-11-24T20:38:54.092395Z",
     "start_time": "2024-11-24T20:38:54.030601Z"
    }
   },
   "outputs": [
    {
     "data": {
      "text/plain": [
       "0.5911343399275768"
      ]
     },
     "execution_count": 8,
     "metadata": {},
     "output_type": "execute_result"
    }
   ],
   "source": [
    "from sklearn.linear_model import LinearRegression\n",
    "\n",
    "# Initialize the model\n",
    "model = LinearRegression()\n",
    "model.fit(X_train, y_train)\n",
    "\n",
    "model.score(X_test, y_test)\n"
   ]
  },
  {
   "cell_type": "code",
   "execution_count": 9,
   "id": "20c20ed6c08c69ef",
   "metadata": {
    "ExecuteTime": {
     "end_time": "2024-11-24T20:41:21.475915Z",
     "start_time": "2024-11-24T20:41:20.860587Z"
    }
   },
   "outputs": [
    {
     "data": {
      "text/plain": [
       "0.7266465148798934"
      ]
     },
     "execution_count": 9,
     "metadata": {},
     "output_type": "execute_result"
    }
   ],
   "source": [
    "# i want to try the svr and neural network\n",
    "from sklearn.svm import SVR\n",
    "from sklearn.neural_network import MLPRegressor\n",
    "\n",
    "# Initialize the models\n",
    "\n",
    "nn = MLPRegressor(hidden_layer_sizes=(30,70),learning_rate_init=0.001, max_iter=400)\n",
    "\n",
    "# Fit the models\n",
    "\n",
    "nn.fit(X_train, y_train)\n",
    "nn.score(X_test, y_test)"
   ]
  },
  {
   "cell_type": "code",
   "execution_count": null,
   "id": "b0831967e8f4b3bb",
   "metadata": {
    "ExecuteTime": {
     "end_time": "2024-11-24T20:41:28.934689Z",
     "start_time": "2024-11-24T20:41:28.919538Z"
    }
   },
   "outputs": [],
   "source": []
  },
  {
   "cell_type": "code",
   "execution_count": 10,
   "id": "25df58bb73ffe841",
   "metadata": {
    "ExecuteTime": {
     "end_time": "2024-11-24T20:41:31.241257Z",
     "start_time": "2024-11-24T20:41:31.231568Z"
    }
   },
   "outputs": [
    {
     "data": {
      "text/plain": [
       "0.05724026117039849"
      ]
     },
     "execution_count": 10,
     "metadata": {},
     "output_type": "execute_result"
    }
   ],
   "source": [
    "svr = SVR()\n",
    "svr.fit(X_train, y_train)\n",
    "svr.score(X_test, y_test)"
   ]
  },
  {
   "cell_type": "code",
   "execution_count": 11,
   "id": "f9757e59ef144746",
   "metadata": {
    "ExecuteTime": {
     "end_time": "2024-11-24T20:42:13.282170Z",
     "start_time": "2024-11-24T20:42:12.981898Z"
    }
   },
   "outputs": [
    {
     "data": {
      "text/plain": [
       "0.9733030871465415"
      ]
     },
     "execution_count": 11,
     "metadata": {},
     "output_type": "execute_result"
    }
   ],
   "source": [
    "# i want to try the random forest\n",
    "from sklearn.ensemble import RandomForestRegressor\n",
    "\n",
    "# Initialize the model\n",
    "rf = RandomForestRegressor()\n",
    "rf.fit(X_train, y_train)\n",
    "\n",
    "rf.score(X_test, y_test)"
   ]
  },
  {
   "cell_type": "code",
   "execution_count": 12,
   "id": "13f4679f85e877b9",
   "metadata": {
    "ExecuteTime": {
     "end_time": "2024-11-24T20:43:37.361268Z",
     "start_time": "2024-11-24T20:43:37.350575Z"
    }
   },
   "outputs": [
    {
     "data": {
      "text/html": [
       "<div>\n",
       "<style scoped>\n",
       "    .dataframe tbody tr th:only-of-type {\n",
       "        vertical-align: middle;\n",
       "    }\n",
       "\n",
       "    .dataframe tbody tr th {\n",
       "        vertical-align: top;\n",
       "    }\n",
       "\n",
       "    .dataframe thead th {\n",
       "        text-align: right;\n",
       "    }\n",
       "</style>\n",
       "<table border=\"1\" class=\"dataframe\">\n",
       "  <thead>\n",
       "    <tr style=\"text-align: right;\">\n",
       "      <th></th>\n",
       "      <th>day_of_year</th>\n",
       "      <th>hour</th>\n",
       "      <th>sensor.forecast_temperature</th>\n",
       "    </tr>\n",
       "  </thead>\n",
       "  <tbody>\n",
       "    <tr>\n",
       "      <th>611</th>\n",
       "      <td>320</td>\n",
       "      <td>11</td>\n",
       "      <td>6.081518</td>\n",
       "    </tr>\n",
       "    <tr>\n",
       "      <th>823</th>\n",
       "      <td>329</td>\n",
       "      <td>7</td>\n",
       "      <td>7.084602</td>\n",
       "    </tr>\n",
       "    <tr>\n",
       "      <th>290</th>\n",
       "      <td>306</td>\n",
       "      <td>20</td>\n",
       "      <td>9.076262</td>\n",
       "    </tr>\n",
       "    <tr>\n",
       "      <th>801</th>\n",
       "      <td>328</td>\n",
       "      <td>9</td>\n",
       "      <td>-0.390956</td>\n",
       "    </tr>\n",
       "    <tr>\n",
       "      <th>168</th>\n",
       "      <td>301</td>\n",
       "      <td>12</td>\n",
       "      <td>16.802790</td>\n",
       "    </tr>\n",
       "    <tr>\n",
       "      <th>...</th>\n",
       "      <td>...</td>\n",
       "      <td>...</td>\n",
       "      <td>...</td>\n",
       "    </tr>\n",
       "    <tr>\n",
       "      <th>653</th>\n",
       "      <td>322</td>\n",
       "      <td>5</td>\n",
       "      <td>1.229704</td>\n",
       "    </tr>\n",
       "    <tr>\n",
       "      <th>456</th>\n",
       "      <td>314</td>\n",
       "      <td>0</td>\n",
       "      <td>2.795630</td>\n",
       "    </tr>\n",
       "    <tr>\n",
       "      <th>778</th>\n",
       "      <td>327</td>\n",
       "      <td>10</td>\n",
       "      <td>-2.177654</td>\n",
       "    </tr>\n",
       "    <tr>\n",
       "      <th>532</th>\n",
       "      <td>317</td>\n",
       "      <td>4</td>\n",
       "      <td>1.371019</td>\n",
       "    </tr>\n",
       "    <tr>\n",
       "      <th>478</th>\n",
       "      <td>314</td>\n",
       "      <td>22</td>\n",
       "      <td>2.431229</td>\n",
       "    </tr>\n",
       "  </tbody>\n",
       "</table>\n",
       "<p>168 rows × 3 columns</p>\n",
       "</div>"
      ],
      "text/plain": [
       "     day_of_year  hour  sensor.forecast_temperature\n",
       "611          320    11                     6.081518\n",
       "823          329     7                     7.084602\n",
       "290          306    20                     9.076262\n",
       "801          328     9                    -0.390956\n",
       "168          301    12                    16.802790\n",
       "..           ...   ...                          ...\n",
       "653          322     5                     1.229704\n",
       "456          314     0                     2.795630\n",
       "778          327    10                    -2.177654\n",
       "532          317     4                     1.371019\n",
       "478          314    22                     2.431229\n",
       "\n",
       "[168 rows x 3 columns]"
      ]
     },
     "execution_count": 12,
     "metadata": {},
     "output_type": "execute_result"
    }
   ],
   "source": [
    "X_test"
   ]
  },
  {
   "cell_type": "code",
   "execution_count": 13,
   "id": "5fc61f9d489fdd35",
   "metadata": {
    "ExecuteTime": {
     "end_time": "2024-11-24T20:46:23.909031Z",
     "start_time": "2024-11-24T20:46:23.898130Z"
    }
   },
   "outputs": [
    {
     "name": "stderr",
     "output_type": "stream",
     "text": [
      "/usr/local/lib/python3.11/dist-packages/sklearn/base.py:465: UserWarning: X does not have valid feature names, but RandomForestRegressor was fitted with feature names\n",
      "  warnings.warn(\n"
     ]
    },
    {
     "data": {
      "text/plain": [
       "array([72.01])"
      ]
     },
     "execution_count": 13,
     "metadata": {},
     "output_type": "execute_result"
    }
   ],
   "source": [
    "rf.predict([[350, 1, -10]])"
   ]
  },
  {
   "cell_type": "code",
   "execution_count": 14,
   "id": "7f7cfa0068286b31",
   "metadata": {
    "ExecuteTime": {
     "end_time": "2024-11-24T20:47:29.068892Z",
     "start_time": "2024-11-24T20:47:29.059770Z"
    }
   },
   "outputs": [
    {
     "name": "stderr",
     "output_type": "stream",
     "text": [
      "/usr/local/lib/python3.11/dist-packages/sklearn/base.py:465: UserWarning: X does not have valid feature names, but RandomForestRegressor was fitted with feature names\n",
      "  warnings.warn(\n"
     ]
    },
    {
     "data": {
      "text/plain": [
       "array([36.21])"
      ]
     },
     "execution_count": 14,
     "metadata": {},
     "output_type": "execute_result"
    }
   ],
   "source": [
    "rf.predict([[250, 1, 15]])\n"
   ]
  },
  {
   "cell_type": "code",
   "execution_count": 15,
   "id": "972fda29-10f7-4cbf-ad64-0ca1c6dbbe46",
   "metadata": {},
   "outputs": [
    {
     "data": {
      "text/plain": [
       "'1.26.4'"
      ]
     },
     "execution_count": 15,
     "metadata": {},
     "output_type": "execute_result"
    }
   ],
   "source": [
    "import numpy as np\n",
    "np.__version__\n",
    "\n"
   ]
  },
  {
   "cell_type": "code",
   "execution_count": 16,
   "id": "b4a419a9-75e4-4908-aaed-91f448aa49e0",
   "metadata": {},
   "outputs": [],
   "source": [
    "import pickle\n"
   ]
  },
  {
   "cell_type": "code",
   "execution_count": null,
   "id": "9c85214b-1297-4d2c-99b6-5c929cd3f58a",
   "metadata": {},
   "outputs": [],
   "source": []
  },
  {
   "cell_type": "code",
   "execution_count": 17,
   "id": "a7977eff12c233a3",
   "metadata": {},
   "outputs": [
    {
     "data": {
      "text/plain": [
       "['remaining_consumption_model.pkl']"
      ]
     },
     "execution_count": 17,
     "metadata": {},
     "output_type": "execute_result"
    }
   ],
   "source": [
    "import joblib\n",
    "\n",
    "# Save the trained model\n",
    "joblib.dump(nn, \"remaining_consumption_model.pkl\")"
   ]
  },
  {
   "cell_type": "markdown",
   "id": "f6f5041b-3564-4f59-a4d0-007276771673",
   "metadata": {},
   "source": [
    "# Copy file in terminal\n",
    "\n",
    "```bash\n",
    "cp /config/notebooks/home-assistant/remaining_consumption_model.pkl /addon_configs/a0d7b954_appdaemon/apps/\n",
    "```"
   ]
  },
  {
   "cell_type": "code",
   "execution_count": 18,
   "id": "5b70a9f9597e6ae5",
   "metadata": {},
   "outputs": [],
   "source": [
    "# cp /config/notebooks/home-assistant/remaining_consumption_model.pkl /addon_configs/a0d7b954_appdaemon/apps/"
   ]
  }
 ],
 "metadata": {
  "kernelspec": {
   "display_name": "Python 3 (ipykernel)",
   "language": "python",
   "name": "python3"
  },
  "language_info": {
   "codemirror_mode": {
    "name": "ipython",
    "version": 3
   },
   "file_extension": ".py",
   "mimetype": "text/x-python",
   "name": "python",
   "nbconvert_exporter": "python",
   "pygments_lexer": "ipython3",
   "version": "3.11.2"
  }
 },
 "nbformat": 4,
 "nbformat_minor": 5
}
